{
  "nbformat": 4,
  "nbformat_minor": 0,
  "metadata": {
    "colab": {
      "name": "Monte Carlo Simulation Example.ipynb",
      "version": "0.3.2",
      "provenance": [],
      "include_colab_link": true
    },
    "kernelspec": {
      "name": "python3",
      "display_name": "Python 3"
    }
  },
  "cells": [
    {
      "cell_type": "markdown",
      "metadata": {
        "id": "view-in-github",
        "colab_type": "text"
      },
      "source": [
        "<a href=\"https://colab.research.google.com/github/Granero0011/AB-Demo/blob/master/Monte_Carlo_Simulation_Example.ipynb\" target=\"_parent\"><img src=\"https://colab.research.google.com/assets/colab-badge.svg\" alt=\"Open In Colab\"/></a>"
      ]
    },
    {
      "cell_type": "code",
      "metadata": {
        "id": "NZeb4VpGhe3s",
        "colab_type": "code",
        "colab": {}
      },
      "source": [
        "import pandas as pd\n",
        "import numpy as np\n",
        "import seaborn as sns\n",
        "\n",
        "sns.set_style('whitegrid')"
      ],
      "execution_count": 0,
      "outputs": []
    },
    {
      "cell_type": "code",
      "metadata": {
        "id": "ogLvGkFYl-OQ",
        "colab_type": "code",
        "colab": {}
      },
      "source": [
        "avg = 1\n",
        "std_dev=.1\n",
        "num_reps= 500\n",
        "num_simulations= 1000"
      ],
      "execution_count": 0,
      "outputs": []
    },
    {
      "cell_type": "code",
      "metadata": {
        "id": "I_37m1ium6BX",
        "colab_type": "code",
        "colab": {}
      },
      "source": [
        "pct_to_target = np.random.normal(avg, std_dev, num_reps).round(2)"
      ],
      "execution_count": 0,
      "outputs": []
    },
    {
      "cell_type": "code",
      "metadata": {
        "id": "Vr1wagOvnEql",
        "colab_type": "code",
        "colab": {}
      },
      "source": [
        "sales_target_values = [75_000, 100_000, 200_000, 300_000, 400_000, 500_000]\n",
        "sales_target_prob = [.3, .3, .2, .1, .05, .05]\n",
        "sales_target = np.random.choice(sales_target_values, num_reps, p=sales_target_prob)"
      ],
      "execution_count": 0,
      "outputs": []
    },
    {
      "cell_type": "code",
      "metadata": {
        "id": "81LDH9bpp_nJ",
        "colab_type": "code",
        "colab": {}
      },
      "source": [
        "df = pd.DataFrame(index=range(num_reps), data={'Pct_To_Target': pct_to_target,\n",
        "                                               'Sales_Target': sales_target})\n",
        "\n",
        "df['Sales'] = df['Pct_To_Target'] * df['Sales_Target']"
      ],
      "execution_count": 0,
      "outputs": []
    },
    {
      "cell_type": "code",
      "metadata": {
        "id": "3QIDM3qWqdcC",
        "colab_type": "code",
        "colab": {}
      },
      "source": [
        "def calc_commission_rate(x):\n",
        "    \"\"\" Return the commission rate based on the table:\n",
        "    0-90% = 2%\n",
        "    91-99% = 3%\n",
        "    >= 100 = 4%\n",
        "    \"\"\"\n",
        "    if x <= .90:\n",
        "        return .02\n",
        "    if x <= .99:\n",
        "        return .03\n",
        "    else:\n",
        "        return .04"
      ],
      "execution_count": 0,
      "outputs": []
    },
    {
      "cell_type": "code",
      "metadata": {
        "id": "oS9ktOuaq0wB",
        "colab_type": "code",
        "colab": {}
      },
      "source": [
        "df['Commission_Rate'] = df['Pct_To_Target'].apply(calc_commission_rate)\n",
        "df['Commission_Amount'] = df['Commission_Rate'] * df['Sales']"
      ],
      "execution_count": 0,
      "outputs": []
    },
    {
      "cell_type": "code",
      "metadata": {
        "id": "O6aff9BLq3Vz",
        "colab_type": "code",
        "colab": {}
      },
      "source": [
        "# Define a list to keep all the results from each simulation that we want to analyze\n",
        "all_stats = []\n",
        "\n",
        "# Loop through many simulations\n",
        "for i in range(num_simulations):\n",
        "\n",
        "    # Choose random inputs for the sales targets and percent to target\n",
        "    sales_target = np.random.choice(sales_target_values, num_reps, p=sales_target_prob)\n",
        "    pct_to_target = np.random.normal(avg, std_dev, num_reps).round(2)\n",
        "\n",
        "    # Build the dataframe based on the inputs and number of reps\n",
        "    df = pd.DataFrame(index=range(num_reps), data={'Pct_To_Target': pct_to_target,\n",
        "                                                   'Sales_Target': sales_target})\n",
        "\n",
        "    # Back into the sales number using the percent to target rate\n",
        "    df['Sales'] = df['Pct_To_Target'] * df['Sales_Target']\n",
        "\n",
        "    # Determine the commissions rate and calculate it\n",
        "    df['Commission_Rate'] = df['Pct_To_Target'].apply(calc_commission_rate)\n",
        "    df['Commission_Amount'] = df['Commission_Rate'] * df['Sales']\n",
        "\n",
        "    # We want to track sales,commission amounts and sales targets over all the simulations\n",
        "    all_stats.append([df['Sales'].sum().round(0),\n",
        "                      df['Commission_Amount'].sum().round(0),\n",
        "                      df['Sales_Target'].sum().round(0)])"
      ],
      "execution_count": 0,
      "outputs": []
    },
    {
      "cell_type": "code",
      "metadata": {
        "id": "eQ0nzbr_r_mP",
        "colab_type": "code",
        "colab": {}
      },
      "source": [
        "results_df = pd.DataFrame.from_records(all_stats, columns=['Sales',\n",
        "                                                           'Commission_Amount',\n",
        "                                                           'Sales_Target'])"
      ],
      "execution_count": 0,
      "outputs": []
    },
    {
      "cell_type": "code",
      "metadata": {
        "id": "CbHT2d9DshFj",
        "colab_type": "code",
        "colab": {
          "base_uri": "https://localhost:8080/",
          "height": 208
        },
        "outputId": "c743b885-ed8e-453c-b41b-948658aceb8b"
      },
      "source": [
        "results_df.describe().style.format('{:,}')"
      ],
      "execution_count": 20,
      "outputs": [
        {
          "output_type": "execute_result",
          "data": {
            "text/html": [
              "<style  type=\"text/css\" >\n",
              "</style><table id=\"T_405c942c_9ec8_11e9_9760_0242ac1c0002\" ><thead>    <tr>        <th class=\"blank level0\" ></th>        <th class=\"col_heading level0 col0\" >Sales</th>        <th class=\"col_heading level0 col1\" >Commission_Amount</th>        <th class=\"col_heading level0 col2\" >Sales_Target</th>    </tr></thead><tbody>\n",
              "                <tr>\n",
              "                        <th id=\"T_405c942c_9ec8_11e9_9760_0242ac1c0002level0_row0\" class=\"row_heading level0 row0\" >count</th>\n",
              "                        <td id=\"T_405c942c_9ec8_11e9_9760_0242ac1c0002row0_col0\" class=\"data row0 col0\" >1,000.0</td>\n",
              "                        <td id=\"T_405c942c_9ec8_11e9_9760_0242ac1c0002row0_col1\" class=\"data row0 col1\" >1,000.0</td>\n",
              "                        <td id=\"T_405c942c_9ec8_11e9_9760_0242ac1c0002row0_col2\" class=\"data row0 col2\" >1,000.0</td>\n",
              "            </tr>\n",
              "            <tr>\n",
              "                        <th id=\"T_405c942c_9ec8_11e9_9760_0242ac1c0002level0_row1\" class=\"row_heading level0 row1\" >mean</th>\n",
              "                        <td id=\"T_405c942c_9ec8_11e9_9760_0242ac1c0002row1_col0\" class=\"data row1 col0\" >83,732,351.75</td>\n",
              "                        <td id=\"T_405c942c_9ec8_11e9_9760_0242ac1c0002row1_col1\" class=\"data row1 col1\" >2,859,383.089</td>\n",
              "                        <td id=\"T_405c942c_9ec8_11e9_9760_0242ac1c0002row1_col2\" class=\"data row1 col2\" >83,731,850.0</td>\n",
              "            </tr>\n",
              "            <tr>\n",
              "                        <th id=\"T_405c942c_9ec8_11e9_9760_0242ac1c0002level0_row2\" class=\"row_heading level0 row2\" >std</th>\n",
              "                        <td id=\"T_405c942c_9ec8_11e9_9760_0242ac1c0002row2_col0\" class=\"data row2 col0\" >2,684,403.943637581</td>\n",
              "                        <td id=\"T_405c942c_9ec8_11e9_9760_0242ac1c0002row2_col1\" class=\"data row2 col1\" >102,210.06311861757</td>\n",
              "                        <td id=\"T_405c942c_9ec8_11e9_9760_0242ac1c0002row2_col2\" class=\"data row2 col2\" >2,639,036.536568098</td>\n",
              "            </tr>\n",
              "            <tr>\n",
              "                        <th id=\"T_405c942c_9ec8_11e9_9760_0242ac1c0002level0_row3\" class=\"row_heading level0 row3\" >min</th>\n",
              "                        <td id=\"T_405c942c_9ec8_11e9_9760_0242ac1c0002row3_col0\" class=\"data row3 col0\" >74,719,000.0</td>\n",
              "                        <td id=\"T_405c942c_9ec8_11e9_9760_0242ac1c0002row3_col1\" class=\"data row3 col1\" >2,518,058.0</td>\n",
              "                        <td id=\"T_405c942c_9ec8_11e9_9760_0242ac1c0002row3_col2\" class=\"data row3 col2\" >74,650,000.0</td>\n",
              "            </tr>\n",
              "            <tr>\n",
              "                        <th id=\"T_405c942c_9ec8_11e9_9760_0242ac1c0002level0_row4\" class=\"row_heading level0 row4\" >25%</th>\n",
              "                        <td id=\"T_405c942c_9ec8_11e9_9760_0242ac1c0002row4_col0\" class=\"data row4 col0\" >81,877,125.0</td>\n",
              "                        <td id=\"T_405c942c_9ec8_11e9_9760_0242ac1c0002row4_col1\" class=\"data row4 col1\" >2,789,652.5</td>\n",
              "                        <td id=\"T_405c942c_9ec8_11e9_9760_0242ac1c0002row4_col2\" class=\"data row4 col2\" >81,975,000.0</td>\n",
              "            </tr>\n",
              "            <tr>\n",
              "                        <th id=\"T_405c942c_9ec8_11e9_9760_0242ac1c0002level0_row5\" class=\"row_heading level0 row5\" >50%</th>\n",
              "                        <td id=\"T_405c942c_9ec8_11e9_9760_0242ac1c0002row5_col0\" class=\"data row5 col0\" >83,641,625.0</td>\n",
              "                        <td id=\"T_405c942c_9ec8_11e9_9760_0242ac1c0002row5_col1\" class=\"data row5 col1\" >2,856,850.0</td>\n",
              "                        <td id=\"T_405c942c_9ec8_11e9_9760_0242ac1c0002row5_col2\" class=\"data row5 col2\" >83,625,000.0</td>\n",
              "            </tr>\n",
              "            <tr>\n",
              "                        <th id=\"T_405c942c_9ec8_11e9_9760_0242ac1c0002level0_row6\" class=\"row_heading level0 row6\" >75%</th>\n",
              "                        <td id=\"T_405c942c_9ec8_11e9_9760_0242ac1c0002row6_col0\" class=\"data row6 col0\" >85,557,750.0</td>\n",
              "                        <td id=\"T_405c942c_9ec8_11e9_9760_0242ac1c0002row6_col1\" class=\"data row6 col1\" >2,927,454.0</td>\n",
              "                        <td id=\"T_405c942c_9ec8_11e9_9760_0242ac1c0002row6_col2\" class=\"data row6 col2\" >85,500,000.0</td>\n",
              "            </tr>\n",
              "            <tr>\n",
              "                        <th id=\"T_405c942c_9ec8_11e9_9760_0242ac1c0002level0_row7\" class=\"row_heading level0 row7\" >max</th>\n",
              "                        <td id=\"T_405c942c_9ec8_11e9_9760_0242ac1c0002row7_col0\" class=\"data row7 col0\" >92,608,500.0</td>\n",
              "                        <td id=\"T_405c942c_9ec8_11e9_9760_0242ac1c0002row7_col1\" class=\"data row7 col1\" >3,203,375.0</td>\n",
              "                        <td id=\"T_405c942c_9ec8_11e9_9760_0242ac1c0002row7_col2\" class=\"data row7 col2\" >92,625,000.0</td>\n",
              "            </tr>\n",
              "    </tbody></table>"
            ],
            "text/plain": [
              "<pandas.io.formats.style.Styler at 0x7f6ce6d6ce80>"
            ]
          },
          "metadata": {
            "tags": []
          },
          "execution_count": 20
        }
      ]
    }
  ]
}